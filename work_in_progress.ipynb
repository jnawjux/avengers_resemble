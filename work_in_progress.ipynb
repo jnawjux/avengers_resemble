{
 "cells": [
  {
   "cell_type": "code",
   "execution_count": 8,
   "metadata": {},
   "outputs": [],
   "source": [
    "import face_recognition as fr\n",
    "import cv2\n",
    "import numpy as np\n",
    "import glob"
   ]
  },
  {
   "cell_type": "code",
   "execution_count": 9,
   "metadata": {},
   "outputs": [],
   "source": [
    "me = fr.load_image_file('/Users/nawjux/Pictures/My dumb face/profile_.jpg')\n",
    "me_encoding = fr.face_encodings(me)[0]"
   ]
  },
  {
   "cell_type": "code",
   "execution_count": 23,
   "metadata": {},
   "outputs": [],
   "source": [
    "marvel_cast = glob.glob('marvel_characters/*.jpg')\n",
    "marvel_cast_encodings = [fr.face_encodings(fr.load_image_file(image))[0]\n",
    "                                  for image in marvel_cast]"
   ]
  },
  {
   "cell_type": "code",
   "execution_count": 24,
   "metadata": {},
   "outputs": [],
   "source": [
    "closest = fr.face_distance(marvel_cast_encodings, me_encoding)"
   ]
  },
  {
   "cell_type": "code",
   "execution_count": 31,
   "metadata": {},
   "outputs": [
    {
     "data": {
      "text/plain": [
       "('marvel_characters/david_bautista.jpg',\n",
       " 'marvel_characters/2_tony_stark.jpg',\n",
       " 'marvel_characters/13_spider_man.jpg')"
      ]
     },
     "execution_count": 31,
     "metadata": {},
     "output_type": "execute_result"
    }
   ],
   "source": [
    "np.argpartition(closest, 3)\n",
    "(marvel_cast[1], marvel_cast[21], marvel_cast[15])"
   ]
  },
  {
   "cell_type": "code",
   "execution_count": 22,
   "metadata": {},
   "outputs": [
    {
     "data": {
      "text/plain": [
       "('marvel_characters/david_bautista.jpg', array([[[13, 13, 13],\n",
       "         [13, 13, 13],\n",
       "         [13, 13, 13],\n",
       "         ...,\n",
       "         [ 8,  8,  8],\n",
       "         [ 8,  8,  8],\n",
       "         [ 8,  8,  8]],\n",
       " \n",
       "        [[13, 13, 13],\n",
       "         [13, 13, 13],\n",
       "         [13, 13, 13],\n",
       "         ...,\n",
       "         [ 8,  8,  8],\n",
       "         [ 8,  8,  8],\n",
       "         [ 8,  8,  8]],\n",
       " \n",
       "        [[13, 13, 13],\n",
       "         [13, 13, 13],\n",
       "         [13, 13, 13],\n",
       "         ...,\n",
       "         [ 8,  8,  8],\n",
       "         [ 8,  8,  8],\n",
       "         [ 8,  8,  8]],\n",
       " \n",
       "        ...,\n",
       " \n",
       "        [[ 7,  7,  7],\n",
       "         [ 7,  7,  7],\n",
       "         [ 7,  7,  7],\n",
       "         ...,\n",
       "         [18, 14, 13],\n",
       "         [18, 14, 13],\n",
       "         [18, 14, 13]],\n",
       " \n",
       "        [[ 7,  7,  7],\n",
       "         [ 7,  7,  7],\n",
       "         [ 7,  7,  7],\n",
       "         ...,\n",
       "         [18, 14, 13],\n",
       "         [18, 14, 13],\n",
       "         [18, 14, 13]],\n",
       " \n",
       "        [[ 7,  7,  7],\n",
       "         [ 7,  7,  7],\n",
       "         [ 7,  7,  7],\n",
       "         ...,\n",
       "         [18, 14, 13],\n",
       "         [18, 14, 13],\n",
       "         [18, 14, 13]]], dtype=uint8))"
      ]
     },
     "execution_count": 22,
     "metadata": {},
     "output_type": "execute_result"
    }
   ],
   "source": [
    "marvel_cast[1]"
   ]
  },
  {
   "cell_type": "code",
   "execution_count": 15,
   "metadata": {},
   "outputs": [
    {
     "data": {
      "text/plain": [
       "True"
      ]
     },
     "execution_count": 15,
     "metadata": {},
     "output_type": "execute_result"
    }
   ],
   "source": [
    "for id, (top, right, bottom, left) in enumerate(face_locations):\n",
    "\n",
    "    # Draw a box around the face\n",
    "    cv2.rectangle(marvel_cast, (left, top), (right, bottom), (0, 0, 255), 2)\n",
    "\n",
    "    # Draw a label with a name below the face\n",
    "    cv2.rectangle(marvel_cast, (left, bottom - 35), (right, bottom), (0, 0, 255), cv2.FILLED)\n",
    "    \n",
    "    font = cv2.FONT_HERSHEY_COMPLEX_SMALL\n",
    "    \n",
    "    cv2.putText(marvel_cast, str(id), (left + 6, bottom - 6), font, 1.0, (255, 255, 255), 1)\n",
    "    \n",
    "# Display the resulting image\n",
    "cv2.imwrite('/Users/nawjux/Desktop/labeled.jpg', marvel_cast)"
   ]
  },
  {
   "cell_type": "code",
   "execution_count": 16,
   "metadata": {},
   "outputs": [],
   "source": [
    "from PIL import Image, ImageDraw\n",
    "\n",
    "face_landmarks_list = face_recognition.face_landmarks(me)"
   ]
  },
  {
   "cell_type": "code",
   "execution_count": null,
   "metadata": {},
   "outputs": [],
   "source": [
    "video_capture = cv2.VideoCapture(0)\n",
    "\n",
    "# Create arrays of known face encodings and their names\n",
    "known_face_encodings = [\n",
    "    encoding_1,\n",
    "\n",
    "]\n",
    "known_face_names = [\n",
    "    \"John\",\n",
    "]\n",
    "\n",
    "# Initialize some variables\n",
    "face_locations = []\n",
    "face_encodings = []\n",
    "face_names = []\n",
    "process_this_frame = True\n",
    "\n",
    "while True:\n",
    "    # Grab a single frame of video\n",
    "    ret, frame = video_capture.read()\n",
    "\n",
    "    # Resize frame of video to 1/4 size for faster face recognition processing\n",
    "    small_frame = cv2.resize(frame, (0, 0), fx=0.25, fy=0.25)\n",
    "\n",
    "    # Convert the image from BGR color (which OpenCV uses) to RGB color (which face_recognition uses)\n",
    "    rgb_small_frame = small_frame[:, :, ::-1]\n",
    "\n",
    "    # Only process every other frame of video to save time\n",
    "    if process_this_frame:\n",
    "        # Find all the faces and face encodings in the current frame of video\n",
    "        face_locations = face_recognition.face_locations(rgb_small_frame)\n",
    "        face_encodings = face_recognition.face_encodings(rgb_small_frame, face_locations)\n",
    "\n",
    "        face_names = []\n",
    "        for face_encoding in face_encodings:\n",
    "            # See if the face is a match for the known face(s)\n",
    "            matches = face_recognition.compare_faces(known_face_encodings, face_encoding)\n",
    "            name = \"Unknown\"\n",
    "\n",
    "            # # If a match was found in known_face_encodings, just use the first one.\n",
    "            # if True in matches:\n",
    "            #     first_match_index = matches.index(True)\n",
    "            #     name = known_face_names[first_match_index]\n",
    "\n",
    "            # Or instead, use the known face with the smallest distance to the new face\n",
    "            face_distances = face_recognition.face_distance(known_face_encodings, face_encoding)\n",
    "            best_match_index = np.argmin(face_distances)\n",
    "            if matches[best_match_index]:\n",
    "                name = known_face_names[best_match_index]\n",
    "\n",
    "            face_names.append(name)\n",
    "\n",
    "    process_this_frame = not process_this_frame\n",
    "\n",
    "\n",
    "    # Display the results\n",
    "    for (top, right, bottom, left), name in zip(face_locations, face_names):\n",
    "        # Scale back up face locations since the frame we detected in was scaled to 1/4 size\n",
    "        top *= 4\n",
    "        right *= 4\n",
    "        bottom *= 4\n",
    "        left *= 4\n",
    "\n",
    "        # Draw a box around the face\n",
    "        cv2.rectangle(frame, (left, top), (right, bottom), (0, 0, 255), 2)\n",
    "\n",
    "        # Draw a label with a name below the face\n",
    "        cv2.rectangle(frame, (left, bottom - 35), (right, bottom), (0, 0, 255), cv2.FILLED)\n",
    "        font = cv2.FONT_HERSHEY_DUPLEX\n",
    "        cv2.putText(frame, name, (left + 6, bottom - 6), font, 1.0, (255, 255, 255), 1)\n",
    "        \n",
    "\n",
    "    # Display the resulting image\n",
    "    cv2.imshow('Video', frame)\n",
    "\n",
    "    # Hit 'q' on the keyboard to quit!\n",
    "    if cv2.waitKey(1) & 0xFF == ord('q'):\n",
    "        break\n",
    "\n",
    "# Release handle to the webcam\n",
    "video_capture.release()\n",
    "cv2.destroyAllWindows()"
   ]
  },
  {
   "cell_type": "code",
   "execution_count": null,
   "metadata": {},
   "outputs": [],
   "source": []
  }
 ],
 "metadata": {
  "kernelspec": {
   "display_name": "Python 3",
   "language": "python",
   "name": "python3"
  },
  "language_info": {
   "codemirror_mode": {
    "name": "ipython",
    "version": 3
   },
   "file_extension": ".py",
   "mimetype": "text/x-python",
   "name": "python",
   "nbconvert_exporter": "python",
   "pygments_lexer": "ipython3",
   "version": "3.7.1"
  }
 },
 "nbformat": 4,
 "nbformat_minor": 2
}
